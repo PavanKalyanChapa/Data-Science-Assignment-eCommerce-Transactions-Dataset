# Import necessary libraries
import pandas as pd
from sklearn.metrics.pairwise import cosine_similarity
from sklearn.preprocessing import StandardScaler
from sklearn.feature_extraction.text import TfidfVectorizer
import numpy as np

# Load the data from CSV files
customers = pd.read_csv('Customers.csv')  # Load customer data
products = pd.read_csv('Products.csv')    # Load product data
transactions = pd.read_csv('Transactions.csv')  # Load transaction data

# Merge transactions with customers to get a complete transaction history
merged_data = transactions.merge(customers, on='CustomerID', how='left')  # Merge on CustomerID
merged_data = merged_data.merge(products, on='ProductID', how='left')  # Merge on ProductID

# Feature Engineering
# Calculate total transaction value for each customer
customer_transaction_value = merged_data.groupby('CustomerID')['TotalValue'].sum().reset_index()
customer_transaction_value.columns = ['CustomerID', 'TotalTransactionValue']  # Rename columns

# Calculate the number of transactions for each customer
customer_transaction_count = merged_data.groupby('CustomerID')['TransactionID'].count().reset_index()
customer_transaction_count.columns = ['CustomerID', 'TransactionCount']  # Rename columns

# Merge the calculated features back into the customer data
customer_features = customers.merge(customer_transaction_value, on='CustomerID', how='left')
customer_features = customer_features.merge(customer_transaction_count, on='CustomerID', how='left')

# Fill any NaN values with 0 (for customers with no transactions)
customer_features.fillna(0, inplace=True)

# Create a TF-IDF vector for customer names to capture text features
tfidf_vectorizer = TfidfVectorizer()
tfidf_matrix = tfidf_vectorizer.fit_transform(customer_features['CustomerName'])  # Fit and transform names

# Combine numerical features (transaction values and counts) with TF-IDF features
numerical_features = customer_features[['TotalTransactionValue', 'TransactionCount']]
combined_features = np.hstack((numerical_features.values, tfidf_matrix.toarray()))  # Combine features

# Standardize the numerical features to have a mean of 0 and a standard deviation of 1
scaler = StandardScaler()
combined_features[:, :2] = scaler.fit_transform(combined_features[:, :2])  # Standardize first two columns

# Calculate cosine similarity between all customers based on combined features
similarity_matrix = cosine_similarity(combined_features)

# Generate recommendations for the first 20 customers (C0001 - C0020)
lookalike_recommendations = {}
for i in range(20):  # Loop through the first 20 customers
    # Get indices of the top 3 similar customers (excluding the customer itself)
    similar_indices = np.argsort(similarity_matrix[i])[::-1][1:4]  
    # Create a list of similar customers and their similarity scores
    similar_customers = [(customers.iloc[j]['CustomerID'], similarity_matrix[i][j]) for j in similar_indices]
    # Store the recommendations in a dictionary
    lookalike_recommendations[customers.iloc[i]['CustomerID']] = similar_customers

# Prepare the output DataFrame to store recommendations
lookalike_records = []  # List to hold records for DataFrame
for cust_id, recommendations in lookalike_recommendations.items():
    for rec in recommendations:
        # Append each recommendation as a dictionary
        lookalike_records.append({'cust_id': cust_id, 'similar_cust_id': rec[0], 'score': rec[1]})

# Create a DataFrame from the records
lookalike_df = pd.DataFrame(lookalike_records)

# Save the recommendations to a CSV file
lookalike_df.to_csv('Lookalike.csv', index=False)  # Save without the index

# Print a message indicating that the recommendations have been saved
print("Lookalike recommendations saved to Lookalike.csv")