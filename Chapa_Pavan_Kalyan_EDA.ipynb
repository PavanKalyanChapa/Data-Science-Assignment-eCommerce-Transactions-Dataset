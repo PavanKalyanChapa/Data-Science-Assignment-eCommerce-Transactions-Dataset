# EDA for eCommerce Transactions Dataset
import pandas as pd
import matplotlib.pyplot as plt
import seaborn as sns

# Load datasets
customers = pd.read_csv('Customers.csv')
products = pd.read_csv('Products.csv')
transactions = pd.read_csv('Transactions.csv')

# Display basic information about the datasets
def basic_info():
    print("\nCustomers Dataset:")
    print(customers.info(), customers.head())

    print("\nProducts Dataset:")
    print(products.info(), products.head())

    print("\nTransactions Dataset:")
    print(transactions.info(), transactions.head())

# Check for missing values and duplicates
def check_missing_and_duplicates():
    print("\nMissing Values:")
    print("Customers:", customers.isnull().sum())
    print("Products:", products.isnull().sum())
    print("Transactions:", transactions.isnull().sum())

    print("\nDuplicates:")
    print("Customers:", customers.duplicated().sum())
    print("Products:", products.duplicated().sum())
    print("Transactions:", transactions.duplicated().sum())

# Convert dates into datetime format
def convert_dates():
    customers['SignupDate'] = pd.to_datetime(customers['SignupDate'])
    transactions['TransactionDate'] = pd.to_datetime(transactions['TransactionDate'])

# EDA and visualizations
def perform_eda():
    # Customers analysis
    print("\nTop 5 Regions by Customer Count:")
    print(customers['Region'].value_counts().head())

    plt.figure(figsize=(8, 5))
    sns.countplot(data=customers, x='Region', order=customers['Region'].value_counts().index, palette="viridis")
    plt.title("Customer Distribution by Region")
    plt.xticks(rotation=45)
    plt.show()

    # Products analysis
    print("\nTop 5 Categories by Product Count:")
    print(products['Category'].value_counts().head())

    plt.figure(figsize=(8, 5))
    sns.countplot(data=products, x='Category', order=products['Category'].value_counts().index, palette="magma")
    plt.title("Product Distribution by Category")
    plt.xticks(rotation=45)
    plt.show()

    # Transactions analysis
    print("\nTop 5 Products by Total Sales Value:")
    total_sales = transactions.groupby('ProductID')['TotalValue'].sum().sort_values(ascending=False).head()
    print(total_sales)

    plt.figure(figsize=(8, 5))
    total_sales.plot(kind='bar', color='teal')
    plt.title("Top Products by Sales Value")
    plt.ylabel("Total Sales Value")
    plt.show()

    # Revenue trend analysis
    transactions['Month'] = transactions['TransactionDate'].dt.to_period('M')
    revenue_trend = transactions.groupby('Month')['TotalValue'].sum()

    plt.figure(figsize=(10, 6))
    revenue_trend.plot(marker='o', color='green')
    plt.title("Monthly Revenue Trend")
    plt.ylabel("Revenue")
    plt.xlabel("Month")
    plt.grid()
    plt.show()

if __name__ == "__main__":
    basic_info()
    check_missing_and_duplicates()
    convert_dates()
    perform_eda()
